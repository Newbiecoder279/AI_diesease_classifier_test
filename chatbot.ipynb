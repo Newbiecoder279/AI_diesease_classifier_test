{
 "cells": [
  {
   "cell_type": "code",
   "execution_count": null,
   "id": "bb973a76",
   "metadata": {},
   "outputs": [],
   "source": [
    "import os\n",
    "from dotenv import load_dotenv\n",
    "\n",
    "from langchain_google_genai import ChatGoogleGenerativeAI, GoogleGenerativeAIEmbeddings\n",
    "from langchain_community.document_loaders import PyPDFLoader\n",
    "from langchain.text_splitter import RecursiveCharacterTextSplitter\n",
    "from langchain_community.vectorstores import Chroma\n",
    "from langchain.memory import ConversationBufferMemory\n",
    "from langchain.chains import ConversationalRetrievalChain"
   ]
  },
  {
   "cell_type": "code",
   "execution_count": null,
   "id": "aafc193b",
   "metadata": {},
   "outputs": [
    {
     "data": {
      "text/plain": [
       "True"
      ]
     },
     "execution_count": 9,
     "metadata": {},
     "output_type": "execute_result"
    }
   ],
   "source": [
    "load_dotenv()  # loads from .env file if you have one\n",
    "os.environ[\"GOOGLE_API_KEY\"] = os.getenv(\"GOOGLE_API_KEY\", \"IzaSyD7vUx5Fa9QUt56aLWh2uerbAC3Ad7UEi4\")"
   ]
  },
  {
   "cell_type": "code",
   "execution_count": 14,
   "id": "d09429de",
   "metadata": {},
   "outputs": [],
   "source": [
    "memory = ConversationBufferMemory(memory_key=\"chat_history\", return_messages=True)\n",
    "\n",
    "\n",
    "def setup_qa_system(file_path: str):\n",
    "    # Load PDF\n",
    "    loader = PyPDFLoader(file_path=file_path)\n",
    "    docs = loader.load_and_split()\n",
    "\n",
    "    # Split into chunks\n",
    "    text_splitter = RecursiveCharacterTextSplitter(chunk_size=1000, chunk_overlap=200)\n",
    "    chunks = text_splitter.split_documents(docs)\n",
    "\n",
    "    # Create embeddings (Gemini embeddings)\n",
    "    embeddings = GoogleGenerativeAIEmbeddings(model=\"models/embedding-001\")\n",
    "\n",
    "    # Build Chroma vectorstore\n",
    "    vector_store = Chroma.from_documents(\n",
    "        chunks, embeddings, persist_directory=\"./chroma_db\"\n",
    "    )\n",
    "\n",
    "    retriever = vector_store.as_retriever()\n",
    "\n",
    "    # ✅ Use Gemini as LLM\n",
    "    llm = ChatGoogleGenerativeAI(model=\"gemini-1.5-flash\", temperature=0)\n",
    "\n",
    "    # Conversational RAG chain\n",
    "    qa_chain = ConversationalRetrievalChain.from_llm(\n",
    "        llm=llm, retriever=retriever, memory=memory\n",
    "    )\n",
    "\n",
    "    return qa_chain\n",
    "\n",
    "\n"
   ]
  },
  {
   "cell_type": "code",
   "execution_count": 15,
   "id": "bd4b0c1f",
   "metadata": {},
   "outputs": [
    {
     "name": "stderr",
     "output_type": "stream",
     "text": [
      "incorrect startxref pointer(1)\n",
      "parsing for Object Streams\n"
     ]
    },
    {
     "name": "stdout",
     "output_type": "stream",
     "text": [
      "💬 Ask questions about the PDF (type 'exit' to quit)\n",
      "\n",
      "\n",
      "Answer: Hello! \n",
      "\n",
      "\n",
      "Answer: I don't know. \n",
      "\n",
      "\n",
      "Answer: Based on the provided text, the symptoms of a heart attack include cough, weight loss, and yellow eyes.  However, note that this is not an exhaustive list and other symptoms may occur. \n",
      "\n",
      "\n",
      "Answer: I don't know.  The provided text mentions tuberculosis treatment (DOTS therapy and antibiotics), but doesn't list its symptoms. \n",
      "\n"
     ]
    },
    {
     "ename": "",
     "evalue": "",
     "output_type": "error",
     "traceback": [
      "\u001b[1;31mThe Kernel crashed while executing code in the current cell or a previous cell. \n",
      "\u001b[1;31mPlease review the code in the cell(s) to identify a possible cause of the failure. \n",
      "\u001b[1;31mClick <a href='https://aka.ms/vscodeJupyterKernelCrash'>here</a> for more info. \n",
      "\u001b[1;31mView Jupyter <a href='command:jupyter.viewOutput'>log</a> for further details."
     ]
    }
   ],
   "source": [
    "if __name__ == \"__main__\":\n",
    "    # Change file name to your PDF\n",
    "    qa_chain = setup_qa_system(file_path=\"disease_treatments.pdf\")\n",
    "\n",
    "    print(\"💬 Ask questions about the PDF (type 'exit' to quit)\\n\")\n",
    "\n",
    "    while True:\n",
    "        question = input(\"Ask a question: \")\n",
    "        if question.lower() == \"exit\":\n",
    "            break\n",
    "\n",
    "        answer = qa_chain.run(question)\n",
    "        print(\"\\nAnswer:\", answer, \"\\n\")"
   ]
  }
 ],
 "metadata": {
  "kernelspec": {
   "display_name": ".venv (3.12.3)",
   "language": "python",
   "name": "python3"
  },
  "language_info": {
   "codemirror_mode": {
    "name": "ipython",
    "version": 3
   },
   "file_extension": ".py",
   "mimetype": "text/x-python",
   "name": "python",
   "nbconvert_exporter": "python",
   "pygments_lexer": "ipython3",
   "version": "3.12.3"
  }
 },
 "nbformat": 4,
 "nbformat_minor": 5
}
